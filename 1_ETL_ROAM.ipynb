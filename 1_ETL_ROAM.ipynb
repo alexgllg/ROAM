{
 "cells": [
  {
   "cell_type": "markdown",
   "metadata": {},
   "source": [
    "Ce script agrège les données issues des déclarations des organismes à partir d'un fichier excel possédant plusieurs onglets. L'emplacement des données est donnée par les variables suivantes :\n",
    "- **`DATA_DIR`** : remplacement du dossier des données relativement aux scripts python ('..' fait référence au dossier parent)\n",
    "- **`EXCEL_ROAM_BRUT`** : nom du fichier Excel contenant les déclarations des organismes. Ce fichier a été légèrement retouché : il doit comporter la colonne \"Code SAS\" ainsi que la colonne \"Typologie\" qui a été pré-renseignée (on verra qu'un deuxième passage sur cette colonne sera nécessaire pour corriger certaines typologies, qualifiées comme relevant de TRAM à tort)\n",
    "- **`ONGLET_MUT_CLSQ`** : onglet du fichier excel contenant les déclarations relatives aux \"mutualisations classiques\" (typologies \"Mutualisation\", hors TRAM, et \"Pole régionaux\", TRAM)\n",
    "- **`ONGLET_MUT_PHR`** : onglet du fichier excel contenant les déclarations relatives à \"PHARE\" (typologie du même nom ; cet onglet doit avoir exactement la même structure que ONGLET_MUT_CLSQ)\n",
    "- **`ONGLET_MUT_NAT`** : onglet du fichier excel contenant les déclarations relatives aux \"Centres Nationaux\" (typologie du même nom ; cet onglet doit avoir exactement la même structure que ONGLET_MUT_CLSQ)\n",
    "- **`ONGLET_DEDUC`** : onglet du fichier excel contenant les déclarations relatives aux déductions hors mutualisation (comprenant donc toutes les autres mutualisations ; cet onglet se présente légèrement différemment des autres)"
   ]
  },
  {
   "cell_type": "markdown",
   "metadata": {},
   "source": [
    "# Import des librairies et variables"
   ]
  },
  {
   "cell_type": "markdown",
   "metadata": {},
   "source": [
    "- la librairie **`os`** est utile pour naviguer dans les fichiers, préciser les chemins\n",
    "- la librairie **`numpy`** est utile pour les calculs numériques, ici nous l'utilisons pour les données manquantes (NAN : not a number avec numpy.nan)\n",
    "- la librairie **`pandas`** est utile pour gérer des données tabulaires\n",
    "\n",
    "On importe ensuite les variables décrites au-dessus"
   ]
  },
  {
   "cell_type": "code",
   "execution_count": 1,
   "metadata": {
    "collapsed": true
   },
   "outputs": [],
   "source": [
    "import os\n",
    "\n",
    "import numpy as np\n",
    "import pandas as pd\n",
    "\n",
    "from config_variables_globales import DATA_DIR, EXCEL_ROAM_BRUT, ONGLET_MUT_CLSQ, ONGLET_MUT_PHR, ONGLET_MUT_NAT, ONGLET_DEDUC"
   ]
  },
  {
   "cell_type": "markdown",
   "metadata": {},
   "source": [
    "# Chargement des déclarations ROAM"
   ]
  },
  {
   "cell_type": "markdown",
   "metadata": {},
   "source": [
    "La fonction **`read_xls_deduc_tab`** est dédiée à la lecture des données relatives aux déductions hors mutualisations. Les principales étapes sont les suivantes :\n",
    "1. lecture de l'onglet excel en précisant le format **`str`** (\"string\") des différentes colonnes, en particulier celles relatives aux codes organismes\n",
    "2. renommage des colonnes pour se conformer à un format unique entre les différents onglets\n",
    "3. création d'un DataFrame (un tableau) vide, mais comportant les colonnes nécessaires pour se conformer au format unique, et concaténation avec les données relatives aux déductions hors mutualisations (via l'opération **`pd.concat`** (concaténation sur les colonnes, en précisant l'argument **`axis=1`**)"
   ]
  },
  {
   "cell_type": "code",
   "execution_count": 2,
   "metadata": {
    "collapsed": false
   },
   "outputs": [],
   "source": [
    "# chargement des données relatives aux déductions hors mutualisation\n",
    "def read_xls_deduc_tab(onglet_deduc, data_dir=DATA_DIR, excel_roam_brut=EXCEL_ROAM_BRUT):\n",
    "    deduc_data = pd.read_excel(io=os.path.join(data_dir, excel_roam_brut),\n",
    "                               sheetname=onglet_deduc,\n",
    "                               converters={'Code Caisse': str,\n",
    "                                           'Caisse': str,\n",
    "                                           'Région': str,\n",
    "                                           'Code  DI (96)': str,\n",
    "                                           'Code SAS': str,\n",
    "                                           'Typologie': str,\n",
    "                                           'Préciser obligatoirement le motif  ': str})\n",
    "\n",
    "    # renommage des colonnes\n",
    "    deduc_data.rename(index=str,\n",
    "                      columns={'Code Caisse': 'Code Caisse prenante',\n",
    "                               'Caisse': 'Caisse prenante',\n",
    "                               'Code  DI (96)': 'Processus',\n",
    "                               'Préciser obligatoirement le motif  ': 'Thème de mutualisation',\n",
    "                               'ETP réellement déduits ': 'ETP à déduire',\n",
    "                               'Total charges réellement déduites': 'Total charges à déduire'},\n",
    "                      inplace=True)\n",
    "\n",
    "    # rajout des colonnes manquantes (NaN pour les vides, \"Pas une mutualisation\" pour le périmètre)\n",
    "    nan_list = [np.nan] * deduc_data.shape[0]\n",
    "    df_empty_columns = pd.DataFrame({'Code Caisse': nan_list,\n",
    "                                     'Caisse': nan_list,\n",
    "                                     'ETP à ajouter': nan_list,\n",
    "                                     'Total charges à ajouter': nan_list,\n",
    "                                     'La mutualisation est-elle totale ou partielle?': ['Pas une mutualisation'] * deduc_data.shape[0]})\n",
    "    df_empty_columns.index = deduc_data.index\n",
    "    deduc_data = pd.concat([deduc_data, df_empty_columns], axis=1)\n",
    "\n",
    "    return deduc_data[['Code Caisse prenante',\n",
    "                       'Caisse prenante',\n",
    "                       'Code Caisse',\n",
    "                       'Caisse',\n",
    "                       'La mutualisation est-elle totale ou partielle?',\n",
    "                       'Processus',\n",
    "                       'Code SAS',\n",
    "                       'Thème de mutualisation',\n",
    "                       'Typologie',\n",
    "                       'ETP à ajouter',\n",
    "                       'ETP à déduire',\n",
    "                       'Total charges à ajouter',\n",
    "                       'Total charges à déduire']]"
   ]
  },
  {
   "cell_type": "markdown",
   "metadata": {},
   "source": [
    "La fonction **`read_xls_mut_tab`** est dédiée à la lecture des données relatives aux mutualisations au sens large (onglets **`ONGLET_MUT_CLSQ`**, **`ONGLET_MUT_PHR`** et **`ONGLET_MUT_NAT`**).\n",
    "\n",
    "Les onglets sont quasiment conservés dans leur état natif. On précise simplement le format sous lequel on souhaite lire les différentes colonnes (en particulier, format **`str`** pour les colonnes relatives aux codes organisme)."
   ]
  },
  {
   "cell_type": "code",
   "execution_count": 3,
   "metadata": {
    "collapsed": false
   },
   "outputs": [],
   "source": [
    "# chargement des données relatives aux mutualisations (\"mutualisations classiques\", \"centres nationaux\" et PHARE\")\n",
    "def read_xls_mut_tab(onglet_mut, data_dir=DATA_DIR, excel_roam_brut=EXCEL_ROAM_BRUT):\n",
    "    mut_data = pd.read_excel(io=os.path.join(data_dir, excel_roam_brut),\n",
    "                             sheetname=onglet_mut,\n",
    "                             converters={'Code Caisse': str,\n",
    "                                         'Caisse': str,\n",
    "                                         'Région': str,\n",
    "                                         'Processus': str,\n",
    "                                         'Code SAS': str,\n",
    "                                         'Typologie': str,\n",
    "                                         'Thème de mutualisation': str,\n",
    "                                         'La mutualisation est-elle totale ou partielle?': str,\n",
    "                                         'Code Caisse prenante': str,\n",
    "                                         'Caisse prenante': str,\n",
    "                                         'Région.1': str})\n",
    "\n",
    "    return mut_data[['Code Caisse prenante',\n",
    "                     'Caisse prenante',\n",
    "                     'Code Caisse',\n",
    "                     'Caisse',\n",
    "                     'La mutualisation est-elle totale ou partielle?',\n",
    "                     'Processus',\n",
    "                     'Code SAS',\n",
    "                     'Thème de mutualisation',\n",
    "                     'Typologie',\n",
    "                     'ETP à ajouter',\n",
    "                     'ETP à déduire',\n",
    "                     'Total charges à ajouter',\n",
    "                     'Total charges à déduire']]"
   ]
  },
  {
   "cell_type": "markdown",
   "metadata": {},
   "source": [
    "La fonction **`process_data`** retraite le dataframe obtenu après lecture des données déclarées par les organismes.\n",
    "\n",
    "Les traitements sont les suivants :\n",
    "- renommage des colonnes\n",
    "- ajout de la colonne statut après identification des statuts cédant / prenant :\n",
    "    - identification des lignes pour lesquelles le statut est cédant (lignes pour lesquelles les charges à déduire mais aussi les ETP à déduire sont nulles)\n",
    "    - identification des lignes pour lesquelles le statut st prenante (situation inverse : toutes les lignes pour lesquelles soit les charges à déduire et/ou les ETP à déduire ne sont pas nulles)\n",
    "- ajout du libellé organisme quand le code n'est pas renseigné (cas de figures concernés : \"AUTRES\", \"AUTRE - CARSAT\", \"AUTREs - ELSM/DRSM\")\n",
    "- calcul des colonnes unifiées \"charges à déduire\" ou \"ETP à déduire\" (avec le signe + ou - selon le statut cédant ou prenant)"
   ]
  },
  {
   "cell_type": "code",
   "execution_count": 4,
   "metadata": {
    "collapsed": false
   },
   "outputs": [],
   "source": [
    "# chargement des données relatives aux mutualisations \"classiques\"\n",
    "def process_data(data):\n",
    "    # extraction du code analytique dans la colonne \"Processus\"\n",
    "    data['Processus'] = data['Processus'].apply(lambda row: row[:4])\n",
    "\n",
    "    # renommage des colonnes\n",
    "    data.rename(index=str,\n",
    "                columns={'Code Caisse prenante': 'Code organisme prenant',\n",
    "                         'Caisse prenante': 'Organisme prenant',\n",
    "                         'Code Caisse': 'Code organisme cédant',\n",
    "                         'Caisse': 'Organisme cédant',\n",
    "                         'La mutualisation est-elle totale ou partielle?': 'Périmètre',\n",
    "                         'Thème de mutualisation': 'Motif',\n",
    "                         'Processus': 'Code analytique'},\n",
    "                inplace=True)\n",
    "\n",
    "    # ajout de la colonne \"Statut\"\n",
    "    statut_c = data.apply(func=lambda row: np.int(np.isnan(row['Total charges à déduire']) & np.isnan(row['ETP à déduire'])) * \"Cédant\", axis=1)\n",
    "    statut_p = data.apply(func=lambda row: (1 - np.int(np.isnan(row['Total charges à déduire']) & np.isnan(row['ETP à déduire']))) * \"Prenant\", axis=1)\n",
    "    statut = statut_c + statut_p\n",
    "    statut.name = \"Statut\"\n",
    "    data = pd.concat([data, statut], axis=1)\n",
    "\n",
    "    # ajout du libellé organisme quand le code n'est pas renseigné (cas de figure : \"AUTRES\", \"AUTRE - CARSAT\", \"AUTREs - ELSM/DRSM\")\n",
    "    data.loc[data[\"Code organisme prenant\"].isnull(), 'Code organisme prenant'] = data.loc[data[\"Code organisme prenant\"].isnull(), 'Organisme prenant']\n",
    "    data.loc[data[\"Code organisme cédant\"].isnull(), 'Code organisme cédant'] = data.loc[data[\"Code organisme cédant\"].isnull(), 'Organisme cédant']\n",
    "\n",
    "    # ajout de la colonne \"ETP à déduire/ajouter\"\n",
    "    data['ETP à déduire/ajouter'] = data['ETP à déduire']\n",
    "\n",
    "    data.loc[data['Statut'] == 'Cédant', 'ETP à déduire/ajouter'] = -1 * data.loc[data['Statut'] == 'Cédant', 'ETP à ajouter']\n",
    "    # ajout de la colonne \"Charges à déduire/ajouter\"\n",
    "    data['Charges à déduire/ajouter'] = data['Total charges à déduire']\n",
    "    data.loc[data['Statut'] == 'Cédant', 'Charges à déduire/ajouter'] = -1 * data.loc[data['Statut'] == 'Cédant', 'Total charges à ajouter']\n",
    "\n",
    "    # suppression des colonnes inutiles et ré-ordonnancement des colonnes\n",
    "    data = data[[\"Organisme prenant\",\n",
    "                 \"Code organisme prenant\",\n",
    "                 \"Organisme cédant\",\n",
    "                 \"Code organisme cédant\",\n",
    "                 \"Statut\",\n",
    "                 \"Périmètre\",\n",
    "                 \"Code analytique\",\n",
    "                 \"Code SAS\",\n",
    "                 \"Motif\",\n",
    "                 \"Typologie\",\n",
    "                 'ETP à déduire/ajouter',\n",
    "                 'Charges à déduire/ajouter']]\n",
    "\n",
    "    return data"
   ]
  },
  {
   "cell_type": "markdown",
   "metadata": {},
   "source": [
    "La fonction finale **`etl_roam`** applique séquentiellement la lecture des déductions (mutualisations et déductions hors mutualisations) ainsi que leur retraitement. Les données sont ensuite concaténées en un tableau final (l'argument `axis=0` précise que la concaténation se fai au niveau des lignes, et non des colonnes)."
   ]
  },
  {
   "cell_type": "code",
   "execution_count": 5,
   "metadata": {
    "collapsed": false
   },
   "outputs": [],
   "source": [
    "def etl_roam(data_dir=DATA_DIR, excel_roam_brut=EXCEL_ROAM_BRUT, onglet_mut_clsq=ONGLET_MUT_CLSQ, onglet_mut_phr=ONGLET_MUT_PHR, onglet_mut_nat=ONGLET_MUT_NAT, onglet_deduc=ONGLET_DEDUC):\n",
    "    mut_clsq_data = process_data(read_xls_mut_tab(onglet_mut=onglet_mut_clsq, data_dir=data_dir, excel_roam_brut=excel_roam_brut))\n",
    "    mut_phr_data = process_data(read_xls_mut_tab(onglet_mut=onglet_mut_phr, data_dir=data_dir, excel_roam_brut=excel_roam_brut))\n",
    "    mut_nat_data = process_data(read_xls_mut_tab(onglet_mut=onglet_mut_nat, data_dir=data_dir, excel_roam_brut=excel_roam_brut))\n",
    "    deduc_data = process_data(read_xls_deduc_tab(onglet_deduc=onglet_deduc, data_dir=data_dir, excel_roam_brut=excel_roam_brut))\n",
    "    data = pd.concat([mut_clsq_data, mut_phr_data, mut_nat_data, deduc_data], axis=0)\n",
    "    #     data = add_ETP_ana(data)\n",
    "    return data"
   ]
  },
  {
   "cell_type": "markdown",
   "metadata": {},
   "source": [
    "# data processing"
   ]
  },
  {
   "cell_type": "code",
   "execution_count": 6,
   "metadata": {
    "collapsed": false,
    "scrolled": true
   },
   "outputs": [],
   "source": [
    "if __name__ == '__main__':\n",
    "    data = etl_roam()\n",
    "    writer = pd.ExcelWriter(os.path.join(DATA_DIR, 'ROAM_2016.xlsx'))\n",
    "    data.to_excel(excel_writer=writer, sheet_name='ROAM 2016', index=False)\n",
    "    writer.save()"
   ]
  }
 ],
 "metadata": {
  "anaconda-cloud": {},
  "kernelspec": {
   "display_name": "Python [default]",
   "language": "python",
   "name": "python3"
  },
  "language_info": {
   "codemirror_mode": {
    "name": "ipython",
    "version": 3.0
   },
   "file_extension": ".py",
   "mimetype": "text/x-python",
   "name": "python",
   "nbconvert_exporter": "python",
   "pygments_lexer": "ipython3",
   "version": "3.5.2"
  }
 },
 "nbformat": 4,
 "nbformat_minor": 0
}